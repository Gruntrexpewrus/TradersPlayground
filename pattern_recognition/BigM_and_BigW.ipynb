{
  "nbformat": 4,
  "nbformat_minor": 0,
  "metadata": {
    "colab": {
      "provenance": []
    },
    "kernelspec": {
      "name": "python3",
      "display_name": "Python 3"
    },
    "language_info": {
      "name": "python"
    }
  },
  "cells": [
    {
      "cell_type": "markdown",
      "source": [
        "# A code to help make decision on Big M chart patterns"
      ],
      "metadata": {
        "id": "EK92HpUO2yBb"
      }
    },
    {
      "cell_type": "code",
      "execution_count": 9,
      "metadata": {
        "id": "OX1NymU6w7--"
      },
      "outputs": [],
      "source": [
        "def BigM_and_BigW(down_between_peaks, highest_peak, big = \"M\", market_type = \"bull\"):\n",
        "  # will likely be valid also for the big W\n",
        "  print(\"Do not forget to identify support levels and knots to help\")\n",
        "  if big == \"M\":\n",
        "    tg_price = down_between_peaks - (highest_peak - down_between_peaks)\n",
        "    print(\"Strategy for SHORTS.\")\n",
        "    print(\"normally Volume would decrease from first to second peak.\")\n",
        "    print(f\"There is a pullback shortly 67-63% of times.\")\n",
        "    print(f\"If ==>big M BUSTS, you may want to go long<== since you may have a soar of {55}% after a single busted pattern.\")\n",
        "    print(f\"Stop loss above peak, pullback may return there.\")\n",
        "\n",
        "    if market_type == \"bull\":\n",
        "      print(f\"The average decline is {17}%\")\n",
        "      print(f\"Price will hit {tg_price/2} with probability {80}%\")\n",
        "      print(f\"Price will hit TARGET {tg_price} with probability {55}%\")\n",
        "      print(f\"Price will hit {tg_price*2} with probability {26}%\")\n",
        "      print(f\"Price will hit {tg_price*3} with probability {13}%\")\n",
        "      print(f\"Price will hit base of M with probability {52}%\")\n",
        "    elif market_type == \"bear\":\n",
        "      print(f\"The average decline is {22}%\")\n",
        "      print(f\"Price will hit {tg_price/2} with probability {82}%\")\n",
        "      print(f\"Price will hit TARGET {tg_price} with probability {58}%\")\n",
        "      print(f\"Price will hit {tg_price*2} with probability {27}%\")\n",
        "      print(f\"Price will hit {tg_price*3} with probability {15}%\")\n",
        "      print(f\"Price will hit base of M with probability {59}%\")\n",
        "  elif big == \"W\":\n",
        "    pass\n",
        "\n",
        "  return"
      ]
    },
    {
      "cell_type": "code",
      "source": [
        "down_between_peaks =  10\n",
        "highest_peak = 15\n",
        "big = \"M\"\n",
        "market_type = \"bull\"\n",
        "\n",
        "BigM_and_BigW(down_between_peaks, highest_peak, big, market_type)"
      ],
      "metadata": {
        "colab": {
          "base_uri": "https://localhost:8080/"
        },
        "id": "96jp6jEV51aJ",
        "outputId": "b2195343-a320-431d-eb82-13e8c4315432"
      },
      "execution_count": 10,
      "outputs": [
        {
          "output_type": "stream",
          "name": "stdout",
          "text": [
            "Do not forget to identify support levels and knots to help\n",
            "Strategy for SHORTS.\n",
            "normally Volume would decrease from first to second peak.\n",
            "There is a pullback shortly 67-63% of times.\n",
            "If ==>big M BUSTS, you may want to go long<== since you may have a soar of 55% after a single busted pattern.\n",
            "Stop loss above peak, pullback may return there.\n",
            "The average decline is 17%\n",
            "Price will hit 2.5 with probability 80%\n",
            "Price will hit TARGET 5 with probability 55%\n",
            "Price will hit 10 with probability 26%\n",
            "Price will hit 15 with probability 13%\n",
            "Price will hit base of M with probability 52%\n"
          ]
        }
      ]
    }
  ]
}