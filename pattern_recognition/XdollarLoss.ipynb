{
  "nbformat": 4,
  "nbformat_minor": 0,
  "metadata": {
    "colab": {
      "provenance": []
    },
    "kernelspec": {
      "name": "python3",
      "display_name": "Python 3"
    },
    "language_info": {
      "name": "python"
    }
  },
  "cells": [
    {
      "cell_type": "markdown",
      "source": [
        "# When you have entry, stop loss amount to risk\n",
        "\n"
      ],
      "metadata": {
        "id": "37WpGMP_7tIh"
      }
    },
    {
      "cell_type": "markdown",
      "source": [
        "## When you have entry, exit and amount to lose"
      ],
      "metadata": {
        "id": "YMGpy0vK-tQv"
      }
    },
    {
      "cell_type": "markdown",
      "source": [
        "# Use This"
      ],
      "metadata": {
        "id": "YCzcd87vHLlL"
      }
    },
    {
      "cell_type": "code",
      "source": [
        "# Example usage\n",
        "portfolio = 100\n",
        "\n",
        "\n",
        "entry_price = 118.841\n",
        "stop_loss_price = 116.541\n",
        "\n",
        "\n",
        "amount_to_lose = 2\n",
        "adjust = 0.95\n",
        "leverage = 10\n",
        "maintenance_margin_rate = 0.005  # Example margin rate\n",
        "kind = \"long\"\n",
        "\n",
        "\n",
        "\n",
        "def calculate_quantity(entry_price, stop_loss_price, amount_to_lose, adjust = 0.85, leverage=1, position_type='long'):\n",
        "    \"\"\"\n",
        "    Calculate the quantity of cryptocurrency to trade and the required capital.\n",
        "\n",
        "    :param entry_price: The price at which the cryptocurrency is traded.\n",
        "    :param stop_loss_price: The price at which the stop loss is set.\n",
        "    :param amount_to_lose: The amount of money willing to be lost if stop loss is hit.\n",
        "    :param leverage: The leverage used in the trade (default is 1, meaning no leverage).\n",
        "    :param position_type: 'long' for buying, 'short' for selling.\n",
        "    :return: The quantity of cryptocurrency to trade, capital required without leverage, and capital required with leverage.\n",
        "    \"\"\"\n",
        "    amount_to_lose = amount_to_lose * adjust\n",
        "    try:\n",
        "        if leverage <= 0:\n",
        "            raise ValueError(\"Leverage must be greater than 0.\")\n",
        "\n",
        "        if position_type == 'long':\n",
        "            price_difference = entry_price - stop_loss_price\n",
        "            if price_difference <= 0:\n",
        "                raise ValueError(\"Stop loss price must be lower than entry price for a long position.\")\n",
        "        elif position_type == 'short':\n",
        "            price_difference = stop_loss_price - entry_price\n",
        "            if price_difference <= 0:\n",
        "                raise ValueError(\"Stop loss price must be higher than entry price for a short position.\")\n",
        "        else:\n",
        "            raise ValueError(\"Position type must be either 'long' or 'short'.\")\n",
        "\n",
        "        quantity = amount_to_lose  / price_difference\n",
        "        capital_without_leverage = quantity * entry_price\n",
        "        capital_with_leverage = capital_without_leverage / leverage\n",
        "        return quantity, capital_without_leverage, capital_with_leverage\n",
        "    except Exception as e:\n",
        "        return str(e)\n",
        "\n",
        "def calculate_liquidation_price(entry_price, leverage, maintenance_margin_rate, position_type='long'):\n",
        "    \"\"\"\n",
        "    Calculate the liquidation price for a cryptocurrency trade.\n",
        "\n",
        "    :param entry_price: The entry price of the trade.\n",
        "    :param leverage: The leverage used in the trade.\n",
        "    :param maintenance_margin_rate: The maintenance margin rate (as a fraction of 1).\n",
        "    :param position_type: 'long' for buying, 'short' for selling.\n",
        "    :return: The liquidation price.\n",
        "    \"\"\"\n",
        "    if position_type == 'long':\n",
        "        return entry_price - (entry_price / leverage) / (1 - maintenance_margin_rate)\n",
        "    elif position_type == 'short':\n",
        "        return entry_price + (entry_price / leverage) / (1 - maintenance_margin_rate)\n",
        "    else:\n",
        "        raise ValueError(\"Position type must be either 'long' or 'short'.\")\n",
        "\n",
        "\n",
        "quantity_to_trade, capital_without_leverage, capital_with_leverage = calculate_quantity(entry_price, stop_loss_price, amount_to_lose, adjust,  leverage, kind)\n",
        "liquidation_price = calculate_liquidation_price(entry_price, leverage, maintenance_margin_rate, kind)\n",
        "\n",
        "print(f\"Initial Portfolio: {portfolio}\")\n",
        "print(f\"Quantity to Trade: {quantity_to_trade}\")\n",
        "print(f\"Capital Required Without Leverage: {capital_without_leverage}\")\n",
        "print(f\"Capital Required With Leverage: {capital_with_leverage}\")\n",
        "print(f\"Liquidation Price: {liquidation_price}\")\n",
        "if kind == \"short\":\n",
        "  print(f\"Can enter: {liquidation_price > entry_price}\")\n",
        "else:\n",
        "  print(f\"Can enter: {liquidation_price < entry_price}\")\n",
        "print(\"\\n\")\n",
        "print(f\"Entry price: {entry_price}\")\n",
        "print(f\"Stop Loss: {stop_loss_price}\")\n"
      ],
      "metadata": {
        "colab": {
          "base_uri": "https://localhost:8080/"
        },
        "id": "NC9QF6hFDi0f",
        "outputId": "4db74699-dd48-44b0-834b-abfb45cecb5d"
      },
      "execution_count": null,
      "outputs": [
        {
          "output_type": "stream",
          "name": "stdout",
          "text": [
            "Initial Portfolio: 100\n",
            "Quantity to Trade: 0.8260869565217401\n",
            "Capital Required Without Leverage: 98.17300000000012\n",
            "Capital Required With Leverage: 9.817300000000012\n",
            "Liquidation Price: 106.8971809045226\n",
            "Can enter: True\n",
            "\n",
            "\n",
            "Entry price: 118.841\n",
            "Stop Loss: 116.541\n"
          ]
        }
      ]
    },
    {
      "cell_type": "code",
      "source": [],
      "metadata": {
        "id": "5ajQCSsJqAKO"
      },
      "execution_count": null,
      "outputs": []
    }
  ]
}