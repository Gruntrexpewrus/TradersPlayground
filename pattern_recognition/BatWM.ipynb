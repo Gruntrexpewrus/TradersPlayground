{
  "nbformat": 4,
  "nbformat_minor": 0,
  "metadata": {
    "colab": {
      "provenance": []
    },
    "kernelspec": {
      "name": "python3",
      "display_name": "Python 3"
    },
    "language_info": {
      "name": "python"
    }
  },
  "cells": [
    {
      "cell_type": "markdown",
      "source": [
        "# Code for the Bat strategy"
      ],
      "metadata": {
        "id": "mI7yEZ_S-YnW"
      }
    },
    {
      "cell_type": "code",
      "execution_count": 2,
      "metadata": {
        "id": "ZPjto6_36q9Z"
      },
      "outputs": [],
      "source": [
        "def find_closest_ratio_and_distance(actual_ratio, possible_ratios):\n",
        "    closest_ratio = min(possible_ratios, key=lambda x: abs(x - actual_ratio))\n",
        "    distance = abs(actual_ratio - closest_ratio)\n",
        "    return closest_ratio, distance\n",
        "\n",
        "def calculate_and_print_fibonacci_ratios(X, A, B, C, epsilon = 0.01):\n",
        "    XA = abs(X - A)\n",
        "    BA = abs(B - A)\n",
        "    BC = abs(C - B)\n",
        "\n",
        "    if B > A and B > C:\n",
        "      market = \"Bearish\"\n",
        "      print(f\"{market} Bat W\")\n",
        "    elif B < A and B < C:\n",
        "      market = \"Bullish\"\n",
        "      print(f\"{market} Bat M\")\n",
        "    else:\n",
        "      raise ValueError(\"Conditions for Bat Bearish or Bullish not satisfied\")\n",
        "\n",
        "    # Ratios for BA/XA Retrace\n",
        "    BA_XA_ratios = [0.382, 0.5]\n",
        "\n",
        "    # Ratios for BC/BA Retrace\n",
        "    BC_BA_ratios = [0.382, 0.5, 0.618, 0.707, 0.786, 0.886]\n",
        "\n",
        "    # Calculate actual ratios\n",
        "    BA_XA_ratio = BA / XA if XA != 0 else 0\n",
        "    BC_BA_ratio = BC / BA if BA != 0 else 0\n",
        "\n",
        "    # Find closest ratios and distances\n",
        "    closest_BA_XA, distance_BA_XA = find_closest_ratio_and_distance(BA_XA_ratio, BA_XA_ratios)\n",
        "    closest_BC_BA, distance_BC_BA = find_closest_ratio_and_distance(BC_BA_ratio, BC_BA_ratios)\n",
        "\n",
        "    # Check if ratios are within epsilon tolerance\n",
        "    if not any(abs(BA_XA_ratio - ratio) <= epsilon for ratio in BA_XA_ratios):\n",
        "        print(\"BA/XA ratio does not satisfy the conditions.\")\n",
        "        return\n",
        "    else:\n",
        "        print(f\"BA/XA obtained ratio: {BA_XA_ratio}, Closest Fibonacci: {closest_BA_XA}, Distance: {distance_BA_XA}\")\n",
        "\n",
        "    if not any(abs(BC_BA_ratio - ratio) <= epsilon for ratio in BC_BA_ratios):\n",
        "        print(\"BC/BA ratio does not satisfy the conditions.\")\n",
        "        return\n",
        "    else:\n",
        "        print(f\"BC/BA obtained ratio: {BC_BA_ratio}, Closest Fibonacci: {closest_BC_BA}, Distance: {distance_BC_BA}\")\n",
        "\n",
        "\n",
        "    # If conditions are satisfied, calculate D based on DA/XA = 0.886\n",
        "    DA_XA_ratio = 0.886\n",
        "    DA = XA * DA_XA_ratio\n",
        "    if market == \"Bearish\":\n",
        "      D = A + DA\n",
        "    elif market == \"Bullish\":\n",
        "      D = A - DA\n",
        "\n",
        "    if D is not None:\n",
        "        print(f\"The calculated D point for the Bat Strategy is: {D}\")\n",
        "    else:\n",
        "        print(\"The given points do not satisfy the Fibonacci ratio conditions for the Bat Strategy.\")\n",
        "\n",
        "    return\n"
      ]
    },
    {
      "cell_type": "code",
      "source": [
        "# Example usage\n",
        "X = 56.93\n",
        "A = 47.81\n",
        "B = 52.00\n",
        "C = 49.71\n",
        "\n",
        "D = calculate_and_print_fibonacci_ratios(X, A, B, C, 0.1)"
      ],
      "metadata": {
        "colab": {
          "base_uri": "https://localhost:8080/"
        },
        "id": "qu-a32bb68tG",
        "outputId": "ca5038ef-909b-4f04-8afe-a5f07b620e9a"
      },
      "execution_count": 5,
      "outputs": [
        {
          "output_type": "stream",
          "name": "stdout",
          "text": [
            "Bearish Bat W\n",
            "BA/XA obtained ratio: 0.4594298245614034, Closest Fibonacci: 0.5, Distance: 0.04057017543859659\n",
            "BC/BA obtained ratio: 0.5465393794749405, Closest Fibonacci: 0.5, Distance: 0.04653937947494047\n",
            "The calculated D point for the Bat Strategy is: 55.89032\n"
          ]
        }
      ]
    },
    {
      "cell_type": "code",
      "source": [
        "# Example usage\n",
        "X = 9.76\n",
        "A = 12.90\n",
        "B = 11.81\n",
        "C = 12.57\n",
        "\n",
        "D = calculate_and_print_fibonacci_ratios(X, A, B, C, 0.1)"
      ],
      "metadata": {
        "colab": {
          "base_uri": "https://localhost:8080/"
        },
        "id": "JYzjMaX08-Md",
        "outputId": "99aef2fb-fc94-4b8d-d88e-7dfc5c330710"
      },
      "execution_count": 6,
      "outputs": [
        {
          "output_type": "stream",
          "name": "stdout",
          "text": [
            "Bullish Bat M\n",
            "BA/XA obtained ratio: 0.3471337579617833, Closest Fibonacci: 0.382, Distance: 0.0348662420382167\n",
            "BC/BA obtained ratio: 0.6972477064220183, Closest Fibonacci: 0.707, Distance: 0.009752293577981686\n",
            "The calculated D point for the Bat Strategy is: 10.11796\n"
          ]
        }
      ]
    }
  ]
}