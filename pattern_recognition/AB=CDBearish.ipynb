{
  "nbformat": 4,
  "nbformat_minor": 0,
  "metadata": {
    "colab": {
      "provenance": []
    },
    "kernelspec": {
      "name": "python3",
      "display_name": "Python 3"
    },
    "language_info": {
      "name": "python"
    }
  },
  "cells": [
    {
      "cell_type": "markdown",
      "source": [
        "# Code to verify AB=CD and give some D possibilities."
      ],
      "metadata": {
        "id": "k9QsKPEZ8Yyt"
      }
    },
    {
      "cell_type": "code",
      "source": [
        "# Code to verify AB=CD and give some D possibilities.\n",
        "\n",
        "def fibonacci_ratiosBCBA():\n",
        "    \"\"\"Returns an extended list of Fibonacci ratios for trading.\"\"\"\n",
        "    # Extended list to include more Fibonacci ratios\n",
        "    return [0.382, 0.5, 0.618, 0.707, 0.786, 0.886]\n",
        "\n",
        "def fibonacci_ratiosDCBC():\n",
        "    \"\"\"Returns an extended list of Fibonacci ratios for trading.\"\"\"\n",
        "    # Extended list to include more Fibonacci ratios\n",
        "    return [1.13, 1.27, 1.41, 1.618, 2, 2.24, 2.618, 3.14]\n",
        "\n",
        "def find_closest_fib_ratio(value, fib_ratios):\n",
        "    \"\"\"Find the closest Fibonacci ratio to a given value.\"\"\"\n",
        "    closest_ratio = min(fib_ratios, key=lambda x: abs(x - value))\n",
        "    difference = abs(value - closest_ratio)\n",
        "    return closest_ratio, difference\n",
        "\n",
        "def compute_D_and_confirm_ABCD(A, B, C, epsilon = 0.01):\n",
        "    \"\"\"Compute all possible D values for AB=CD pattern that result in a Fibonacci ratio for DC/BC,\n",
        "    and confirm the strategy if the initial BC/AB ratio is within 0.001 of a Fibonacci ratio.\"\"\"\n",
        "    fib_ratiosBCBA = fibonacci_ratiosBCBA()\n",
        "    fib_ratiosDCBC = fibonacci_ratiosDCBC()\n",
        "\n",
        "    market = \"\"\n",
        "    if A < B and B > C:\n",
        "      print(\"AB=CD Bearish\")\n",
        "      market = \"BEAR\"\n",
        "      print(\"Actual Reverse to buull is 32%-38%\")\n",
        "    elif A > B and B < C:\n",
        "      print(\"AB=CD Bullish\")\n",
        "      market = \"BULL\"\n",
        "      print(\"Actual Reverse to buull is 38%-33%\")\n",
        "    else:\n",
        "      raise ValueError(\"Conditions for AB=CD Bearish or Bullish not satisfied\")\n",
        "\n",
        "    print(\"Almost all options will reach point D.\")\n",
        "    BA = abs(B - A)\n",
        "    BC = abs(B - C)\n",
        "    BCBA = BC / BA\n",
        "    closest_ratio, difference_to_closest = find_closest_fib_ratio(BCBA, fib_ratiosBCBA)\n",
        "\n",
        "    strategy_confirmation = \"Strategy not confirmed\"\n",
        "    if difference_to_closest <= epsilon:\n",
        "        strategy_confirmation = f\"Strategy confirmed with BC/BA ratio close to Fibonacci ratio: {closest_ratio}\"\n",
        "\n",
        "    all_D_values = []\n",
        "\n",
        "  # Iterate through Fibonacci ratios to compute D values that would make DC/BC a Fibonacci ratio\n",
        "    if market == \"BEAR\":\n",
        "      for fib_DCBC in fib_ratiosDCBC:\n",
        "        # Calculate D based on the assumption that CD (and thus DC) is a Fibonacci extension of BC\n",
        "        DC = BC * fib_DCBC\n",
        "        D = C + DC #if BC < 0 else C - CD  # Adjust direction based on BC move\n",
        "        all_D_values.append(D)\n",
        "\n",
        "    elif market == \"BULL\":\n",
        "      for fib_DCBC in fib_ratiosDCBC:\n",
        "        # Calculate D based on the assumption that CD (and thus DC) is a Fibonacci extension of BC\n",
        "        DC = BC * fib_DCBC\n",
        "        D = C - DC #if BC < 0 else C - CD  # Adjust direction based on BC move\n",
        "        all_D_values.append(D)\n",
        "      all_D_values.reverse()\n",
        "\n",
        "    print(\"closest_ratio BC/BA\", closest_ratio)\n",
        "    print(\"difference_to_closest: \", difference_to_closest )\n",
        "    print(strategy_confirmation)\n",
        "    print(\"\\n\")\n",
        "    for i in range(len(all_D_values)):\n",
        "      print(\"Value of D: \", all_D_values[i])\n",
        "      print(\"Ratio DC/BC: \", fib_ratios_DCBC[i])\n",
        "      print(\"\\n\")\n",
        "    return closest_ratio, difference_to_closest, strategy_confirmation, all_D_values, fib_ratiosDCBC\n",
        "\n",
        "# Compute and confirm strategy, then compute all possible D values\n",
        "#closest_ratio, difference_to_closest, strategy_confirmation, all_possible_D_values, fib_ratios_DCBC = compute_D_and_confirm_ABCD(A, B, C, 0.01)\n",
        "\n",
        "##print(\"closest_ratio BC/BA\", closest_ratio)\n",
        "#print(\"difference_to_closest: \", difference_to_closest )\n",
        "#print(strategy_confirmation)\n",
        "#print(\"\\n\")\n",
        "#for i in range(len(all_possible_D_values)):\n",
        "#  print(\"Value of D: \", all_possible_D_values[i])\n",
        "##  print(\"Ratio DC/BC: \", fib_ratios_DCBC[i])\n",
        "#  print(\"\\n\")"
      ],
      "metadata": {
        "id": "tS8XoAQj8SNC"
      },
      "execution_count": 36,
      "outputs": []
    },
    {
      "cell_type": "code",
      "source": [
        "A = 56.81\n",
        "B = 63.85\n",
        "C = 60.32\n",
        "_ = compute_D_and_confirm_ABCD(A, B, C, 0.01)"
      ],
      "metadata": {
        "colab": {
          "base_uri": "https://localhost:8080/"
        },
        "id": "rVgnX4NY4MbW",
        "outputId": "3d146d36-1b0c-4df2-e348-d2c6f8e5790f"
      },
      "execution_count": 37,
      "outputs": [
        {
          "output_type": "stream",
          "name": "stdout",
          "text": [
            "AB=CD Bearish\n",
            "Actual Reverse to buull is 32%-38%\n",
            "Almost all options will reach point D.\n",
            "closest_ratio BC/BA 0.5\n",
            "difference_to_closest:  0.0014204545454548079\n",
            "Strategy confirmed with BC/BA ratio close to Fibonacci ratio: 0.5\n",
            "\n",
            "\n",
            "Value of D:  64.3089\n",
            "Ratio DC/BC:  1.13\n",
            "\n",
            "\n",
            "Value of D:  64.8031\n",
            "Ratio DC/BC:  1.27\n",
            "\n",
            "\n",
            "Value of D:  65.2973\n",
            "Ratio DC/BC:  1.41\n",
            "\n",
            "\n",
            "Value of D:  66.03154\n",
            "Ratio DC/BC:  1.618\n",
            "\n",
            "\n",
            "Value of D:  67.38\n",
            "Ratio DC/BC:  2\n",
            "\n",
            "\n",
            "Value of D:  68.22720000000001\n",
            "Ratio DC/BC:  2.24\n",
            "\n",
            "\n",
            "Value of D:  69.56154000000001\n",
            "Ratio DC/BC:  2.618\n",
            "\n",
            "\n",
            "Value of D:  71.4042\n",
            "Ratio DC/BC:  3.14\n",
            "\n",
            "\n"
          ]
        }
      ]
    },
    {
      "cell_type": "code",
      "execution_count": 38,
      "metadata": {
        "id": "u6-LF1ki8QAV",
        "colab": {
          "base_uri": "https://localhost:8080/"
        },
        "outputId": "cddec74b-c143-4b7d-cba5-c94d42168d62"
      },
      "outputs": [
        {
          "output_type": "stream",
          "name": "stdout",
          "text": [
            "AB=CD Bullish\n",
            "Actual Reverse to buull is 38%-33%\n",
            "Almost all options will reach point D.\n",
            "closest_ratio BC/BA 0.786\n",
            "difference_to_closest:  0.0041357006975271116\n",
            "Strategy confirmed with BC/BA ratio close to Fibonacci ratio: 0.786\n",
            "\n",
            "\n",
            "Value of D:  186.73380000000003\n",
            "Ratio DC/BC:  1.13\n",
            "\n",
            "\n",
            "Value of D:  193.17006000000003\n",
            "Ratio DC/BC:  1.27\n",
            "\n",
            "\n",
            "Value of D:  197.8308\n",
            "Ratio DC/BC:  1.41\n",
            "\n",
            "\n",
            "Value of D:  200.79000000000002\n",
            "Ratio DC/BC:  1.618\n",
            "\n",
            "\n",
            "Value of D:  205.50006000000002\n",
            "Ratio DC/BC:  2\n",
            "\n",
            "\n",
            "Value of D:  208.06470000000002\n",
            "Ratio DC/BC:  2.24\n",
            "\n",
            "\n",
            "Value of D:  209.79090000000002\n",
            "Ratio DC/BC:  2.618\n",
            "\n",
            "\n",
            "Value of D:  211.5171\n",
            "Ratio DC/BC:  3.14\n",
            "\n",
            "\n"
          ]
        }
      ],
      "source": [
        "A = 228.89\n",
        "B = 213.12\n",
        "C = 225.45\n",
        "\n",
        "# Compute and confirm strategy, then compute all possible D values\n",
        "_ = closest_ratio, difference_to_closest, strategy_confirmation, all_possible_D_values, fib_ratios_DCBC = compute_D_and_confirm_ABCD(A, B, C, 0.01)"
      ]
    },
    {
      "cell_type": "code",
      "source": [],
      "metadata": {
        "id": "AzO9X8ny4YQQ"
      },
      "execution_count": null,
      "outputs": []
    }
  ]
}