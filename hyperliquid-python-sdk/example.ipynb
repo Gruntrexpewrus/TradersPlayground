{
 "cells": [
  {
   "cell_type": "code",
   "execution_count": null,
   "metadata": {},
   "outputs": [],
   "source": [
    "pip install hyperliquid-python-sdk"
   ]
  },
  {
   "cell_type": "markdown",
   "metadata": {},
   "source": [
    "# Example on how to buy (spot)"
   ]
  },
  {
   "cell_type": "code",
   "execution_count": 11,
   "metadata": {},
   "outputs": [
    {
     "name": "stdout",
     "output_type": "stream",
     "text": [
      "Running with account address: 0x2039B73AE49F18EC2Faa0fC9E56e6c898d6C51b9\n",
      "Running with agent address: 0xD157b235dB1024a6377Cafa9ceDFa0C71EcE95b3\n",
      "spot balances:\n",
      "{\n",
      "  \"coin\": \"USDC\",\n",
      "  \"hold\": \"0.0\",\n",
      "  \"token\": 0,\n",
      "  \"total\": \"1435.387439\"\n",
      "}\n",
      "{\n",
      "  \"coin\": \"PURR\",\n",
      "  \"hold\": \"0.0\",\n",
      "  \"token\": 1,\n",
      "  \"total\": \"124.0\"\n",
      "}\n",
      "{\n",
      "  \"coin\": \"CHUTORO\",\n",
      "  \"hold\": \"0.0\",\n",
      "  \"token\": 11,\n",
      "  \"total\": \"0.24\"\n",
      "}\n",
      "{'status': 'ok', 'response': {'type': 'order', 'data': {'statuses': [{'resting': {'oid': 8019151984}}]}}}\n",
      "Order status by oid: {'order': {'order': {'children': [], 'cloid': None, 'coin': 'PURR/USDC', 'isPositionTpsl': False, 'isTrigger': False, 'limitPx': '95.727', 'oid': 8019151984, 'orderType': 'Limit', 'origSz': '1.0', 'reduceOnly': False, 'side': 'B', 'sz': '1.0', 'tif': 'Gtc', 'timestamp': 1714293397211, 'triggerCondition': 'N/A', 'triggerPx': '0.0'}, 'status': 'open', 'statusTimestamp': 1714293397211}, 'status': 'order'}\n",
      "{'status': 'ok', 'response': {'type': 'cancel', 'data': {'statuses': ['success']}}}\n"
     ]
    }
   ],
   "source": [
    "# Import the json module to handle JSON files\n",
    "import json\n",
    "\n",
    "# Importing constants from a custom utility module, likely containing configuration data\n",
    "from hyperliquid.utils import constants\n",
    "# Importing another module that might be responsible for utility functions or setups\n",
    "import example_utils\n",
    "\n",
    "# Constant representing a trading pair\n",
    "COIN = \"PURR/USDC\"\n",
    "\n",
    "# Main function definition\n",
    "def main():\n",
    "    # Setting up and returning essential components such as address, info object, and exchange object using a function from example_utils\n",
    "    address, info, exchange = example_utils.setup(base_url=constants.TESTNET_API_URL, skip_ws=True)\n",
    "\n",
    "    # Fetching the user's state in the spot market and printing position information\n",
    "    spot_user_state = info.spot_user_state(address)\n",
    "    # Check if there are any balances in the spot user state and print them\n",
    "    if len(spot_user_state[\"balances\"]) > 0:\n",
    "        print(\"spot balances:\")\n",
    "        for balance in spot_user_state[\"balances\"]:\n",
    "            # Printing each balance in a readable format using JSON dumps\n",
    "            print(json.dumps(balance, indent=2))\n",
    "    else:\n",
    "        # Message displayed if there are no token balances\n",
    "        print(\"no available token balances\")\n",
    "\n",
    "    # Placing an order with a very low price intending it to rest on the order book\n",
    "    order_result = exchange.order(COIN, True, 1, 95.727, {\"limit\": {\"tif\": \"Gtc\"}})\n",
    "    # Printing the result of the order placement\n",
    "    print(order_result)\n",
    "\n",
    "    # Checking the status of the order and querying it by order ID if the status is 'ok'\n",
    "    if order_result[\"status\"] == \"ok\":\n",
    "        status = order_result[\"response\"][\"data\"][\"statuses\"][0]\n",
    "        if \"resting\" in status:\n",
    "            # Querying the order by its ID to get its current status\n",
    "            order_status = info.query_order_by_oid(address, status[\"resting\"][\"oid\"])\n",
    "            # Printing the status of the queried order\n",
    "            print(\"Order status by oid:\", order_status)\n",
    "\n",
    "    # If the order is successfully placed and resting, attempting to cancel it\n",
    "    if order_result[\"status\"] == \"ok\":\n",
    "        status = order_result[\"response\"][\"data\"][\"statuses\"][0]\n",
    "        if \"resting\" in status:\n",
    "            # Cancelling the order using its ID\n",
    "            cancel_result = exchange.cancel(COIN, status[\"resting\"][\"oid\"])\n",
    "            # Printing the result of the cancel operation\n",
    "            print(cancel_result)\n",
    "\n",
    "\n",
    "# Checking if this script is the main program and not being imported elsewhere, then calling main function\n",
    "if __name__ == \"__main__\":\n",
    "    main()\n"
   ]
  },
  {
   "cell_type": "markdown",
   "metadata": {},
   "source": [
    "# Example on transfer funds between spot and perps"
   ]
  },
  {
   "cell_type": "code",
   "execution_count": 21,
   "metadata": {},
   "outputs": [
    {
     "name": "stdout",
     "output_type": "stream",
     "text": [
      "Running with account address: 0x2039B73AE49F18EC2Faa0fC9E56e6c898d6C51b9\n",
      "Running with agent address: 0xD157b235dB1024a6377Cafa9ceDFa0C71EcE95b3\n",
      "{'balances': [{'coin': 'USDC', 'hold': '0.0', 'token': 0, 'total': '1433.347439'}, {'coin': 'PURR', 'hold': '0.0', 'token': 1, 'total': '124.0'}, {'coin': 'CHUTORO', 'hold': '0.0', 'token': 11, 'total': '0.24'}]}\n",
      "USDC at start in spot: [{'coin': 'USDC', 'hold': '0.0', 'token': 0, 'total': '1433.347439'}]\n",
      "USDC at start in perps: 386.832092\n",
      "spot balances:\n",
      "[{'coin': 'USDC', 'hold': '0.0', 'token': 0, 'total': '1433.347439'}, {'coin': 'PURR', 'hold': '0.0', 'token': 1, 'total': '124.0'}, {'coin': 'CHUTORO', 'hold': '0.0', 'token': 11, 'total': '0.24'}]\n",
      "{'status': 'ok', 'response': {'type': 'default'}}\n",
      "{'status': 'ok', 'response': {'type': 'default'}}\n",
      "USDC at end in spot: [{'coin': 'USDC', 'hold': '0.0', 'token': 0, 'total': '1431.347439'}]\n",
      "USDC at end in perps: 388.832092\n"
     ]
    }
   ],
   "source": [
    "from hyperliquid.utils import constants\n",
    "import example_utils\n",
    "\n",
    "\n",
    "def main():\n",
    "    address, info, exchange = example_utils.setup(constants.TESTNET_API_URL, skip_ws=True)\n",
    "\n",
    "    # Fetching the user's state in the spot market and printing position information\n",
    "    spot_user_state = info.spot_user_state(address)\n",
    "    # Using list comprehension to filter out the dictionary\n",
    "    print(spot_user_state)\n",
    "    usdc_data = [item for item in spot_user_state[\"balances\"] if item['coin'] == 'USDC']\n",
    "    print(\"USDC at start in spot:\", usdc_data)\n",
    "    \n",
    "    user_state = info.user_state(address)\n",
    "    print(\"USDC at start in perps:\", user_state[\"withdrawable\"])\n",
    "    # Check if there are any balances in the spot user state and print them\n",
    "    if len(spot_user_state[\"balances\"]) > 0:\n",
    "        print(\"spot balances:\")\n",
    "        print(spot_user_state[\"balances\"])\n",
    "    \n",
    "    # Transfer USDC from perp wallet to spot wallet\n",
    "    transfer_result = exchange.user_spot_transfer(2, False)\n",
    "    print(transfer_result)\n",
    "\n",
    "    # Transfer 1.23 USDC from spot wallet to perp wallet\n",
    "    transfer_result = exchange.user_spot_transfer(4, True)\n",
    "    print(transfer_result)\n",
    "    \n",
    "    spot_user_state = info.spot_user_state(address)\n",
    "    usdc_data = [item for item in spot_user_state[\"balances\"] if item['coin'] == 'USDC']\n",
    "    print(\"USDC at end in spot:\", usdc_data)\n",
    "    \n",
    "    user_state = info.user_state(address)\n",
    "    print(\"USDC at end in perps:\", user_state[\"withdrawable\"])\n",
    "\n",
    "if __name__ == \"__main__\":\n",
    "    main()"
   ]
  },
  {
   "cell_type": "markdown",
   "metadata": {},
   "source": [
    "# Example how to "
   ]
  }
 ],
 "metadata": {
  "kernelspec": {
   "display_name": "backtrader_bybit",
   "language": "python",
   "name": "python3"
  },
  "language_info": {
   "codemirror_mode": {
    "name": "ipython",
    "version": 3
   },
   "file_extension": ".py",
   "mimetype": "text/x-python",
   "name": "python",
   "nbconvert_exporter": "python",
   "pygments_lexer": "ipython3",
   "version": "3.9.18"
  }
 },
 "nbformat": 4,
 "nbformat_minor": 2
}
