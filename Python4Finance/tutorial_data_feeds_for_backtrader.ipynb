{
 "cells": [
  {
   "cell_type": "markdown",
   "metadata": {},
   "source": [
    "I know I am going to forget and will not have much desire to check the docs every time, so here there is how to load csv feeds based on what I used till now.\n",
    "They are equivalent!"
   ]
  },
  {
   "cell_type": "code",
   "execution_count": 4,
   "metadata": {},
   "outputs": [],
   "source": [
    "import backtrader as bt\n",
    "import pandas as pd"
   ]
  },
  {
   "cell_type": "code",
   "execution_count": 5,
   "metadata": {},
   "outputs": [],
   "source": [
    "data = pd.read_csv(\"/Users/leonardoplacidi/Desktop/BacktestingTrade/Python4Finance/data/Bybit_ETH_for_backtesting_IV.csv\", parse_dates=True, index_col=\"datetime\")\n",
    "# Ensure the 'startTime' column is set as the index and convert column names to lowercase\n",
    "# Define the custom data feed class\n",
    "class PandasData(bt.feeds.PandasData):\n",
    "    # Add a 'volume', 'openInterest', and 'turnover' lines to the inherited ones from the base class\n",
    "    lines = ('volume', 'openinterest', 'turnover')\n",
    "    \n",
    "    # Define parameters for the column names\n",
    "    params = (\n",
    "        ('datetime', None),\n",
    "        ('open', 'openPrice'),\n",
    "        ('high', 'highPrice'),\n",
    "        ('low', 'lowPrice'),\n",
    "        ('close', 'closePrice'),\n",
    "        ('volume', 'volume'),\n",
    "        ('openinterest', 'openInterest'),\n",
    "        ('turnover', 'turnover'),\n",
    "    )\n",
    "\n",
    "# Create an instance of the custom data feed\n",
    "data_feed_1 = PandasData(dataname=data)"
   ]
  },
  {
   "cell_type": "code",
   "execution_count": 6,
   "metadata": {},
   "outputs": [],
   "source": [
    "import backtrader.feeds as btfeeds\n",
    "\n",
    "data_feed_2 = btfeeds.GenericCSVData(\n",
    "    dataname=\"/Users/leonardoplacidi/Desktop/BacktestingTrade/Python4Finance/data/Bybit_ETH_for_backtesting_IV.csv\",\n",
    "    #fromdate=datetime(2024, 1, 1), \n",
    "    #todate=datetime(2024, 5, 24),\n",
    "    nullvalue=0.0,\n",
    "    dtformat=('%Y-%m-%d'),\n",
    "    datetime=0,\n",
    "    high=2,\n",
    "    low=3,\n",
    "    open=1,\n",
    "    close=4,\n",
    "    volume=5,\n",
    "    openinterest=8\n",
    ")"
   ]
  },
  {
   "cell_type": "markdown",
   "metadata": {},
   "source": [
    "ありがとうございます"
   ]
  }
 ],
 "metadata": {
  "kernelspec": {
   "display_name": "BT",
   "language": "python",
   "name": "python3"
  },
  "language_info": {
   "codemirror_mode": {
    "name": "ipython",
    "version": 3
   },
   "file_extension": ".py",
   "mimetype": "text/x-python",
   "name": "python",
   "nbconvert_exporter": "python",
   "pygments_lexer": "ipython3",
   "version": "3.9.18"
  }
 },
 "nbformat": 4,
 "nbformat_minor": 2
}
